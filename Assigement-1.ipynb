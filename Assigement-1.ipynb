{
 "cells": [
  {
   "cell_type": "markdown",
   "id": "5fc84d2f-1310-4a89-97d6-a032f471c5d6",
   "metadata": {},
   "source": [
    "Ans.1 = Tuples are a data type that belongs to the sequence data type category. They're similar to lists in Python, but they have the property of being immutable. We can't change the elements of a tuple, but we can execute a variety of actions on them such as count, index, type, etc."
   ]
  },
  {
   "cell_type": "markdown",
   "id": "0f306dcf-f2e7-48ee-8842-de5cfa7e06f5",
   "metadata": {},
   "source": [
    "Ans.2 = (1) = count()\t\n",
    "        (2) = index()\t\n",
    "        Ordered = the order will not change.\n",
    "        Unchangeable = , add or remove items after the tuple has been created.\n",
    "        example = thistuple = (\"apple\", \"banana\", \"cherry\")\n",
    "             print(thistuple) "
   ]
  },
  {
   "cell_type": "markdown",
   "id": "12770928-d587-49c6-9c12-a80ff3f57057",
   "metadata": {},
   "source": [
    "Ans.3 = Set is a collection which is unordered and unindexed. No duplicate members."
   ]
  },
  {
   "cell_type": "markdown",
   "id": "a4d1b5bd-29b8-449b-9376-9c24f68341e7",
   "metadata": {},
   "source": [
    "Ans.4 = In Python, there are four different ways of performing union operation on collection of sets, they are as follows :\n",
    "        1. union Method\n",
    "             2.| Operator\n",
    "                     3.update Method\n",
    "                              4.|= Operator . \n",
    "         exapmle = A = {1, 2, 3, 4, 5}\n",
    "B = {4, 5, 6, 7, 8, 9}\n",
    "\n",
    "Union of A & B :-\n",
    "A U B = {1, 2, 3, 4, 5, 6, 7, 8, 9}\n",
    "\n",
    "\n"
   ]
  },
  {
   "cell_type": "markdown",
   "id": "565b1c7f-bda6-4bed-a17e-c07ce5922dc5",
   "metadata": {},
   "source": [
    "Ans.5 = The values in the dictionary can be of any type, while the keys must be immutable like numbers, tuples, or strings.\n",
    "exapmle = Dict = {'Tim': 18,'Charlie':12,'Tiffany':22,'Robert':25}   \n",
    "print (Dict['Tiffany'])"
   ]
  },
  {
   "cell_type": "markdown",
   "id": "648bdcd0-a594-46d3-97d2-b03876faab79",
   "metadata": {},
   "source": [
    "Ans.6 = A Nested dictionary can be created in Python by placing the comma-separated dictionaries enclosed within braces.\n",
    "example = dict = {1: 'Rina', 2: 'Gita', 3: 'Sita'}  \n",
    "         print(dict)"
   ]
  },
  {
   "cell_type": "markdown",
   "id": "3feb181e-a859-4091-bed9-e2ff4f342e49",
   "metadata": {},
   "source": [
    "Ans.7 = \n",
    "d = {'Python', 'Machine Learning’, 'Deep Learning'}\n",
    "     # space key added using setdefault() method\n",
    "d.setdefault(' ', data science)\n",
    "print(d)\n",
    "output = {'Python', 'Machine Learning’, 'Deep Learning', ' ' data science'}\n",
    "\n",
    "dict1 = {'language' : 'Python', 'course': 'Data Science Masters'}\n",
    "print(dict1)\n",
    "output = {'language' : 'Python', 'course': 'Data Science Masters'}"
   ]
  },
  {
   "cell_type": "markdown",
   "id": "81e6b53c-eef3-4522-bcc6-b38beaa61071",
   "metadata": {},
   "source": [
    "Ans.8 = dict1 = {'Sport': 'Cricket' , 'Teams: ['India', 'Australia', 'England', 'South Africa', 'Sri Lanka', 'New Zealand']}\n",
    "k = d.keys()\n",
    "print(k)\n",
    "print(type(k))\n",
    "\n",
    "output = dict_keys(['a', 'b', 'c', 'd'])\n",
    "<class 'dict_keys'>"
   ]
  },
  {
   "cell_type": "code",
   "execution_count": null,
   "id": "f5d2ed18-b123-469e-8800-0e808e15167b",
   "metadata": {},
   "outputs": [],
   "source": []
  }
 ],
 "metadata": {
  "kernelspec": {
   "display_name": "Python 3 (ipykernel)",
   "language": "python",
   "name": "python3"
  },
  "language_info": {
   "codemirror_mode": {
    "name": "ipython",
    "version": 3
   },
   "file_extension": ".py",
   "mimetype": "text/x-python",
   "name": "python",
   "nbconvert_exporter": "python",
   "pygments_lexer": "ipython3",
   "version": "3.10.8"
  }
 },
 "nbformat": 4,
 "nbformat_minor": 5
}
